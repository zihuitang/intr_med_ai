{
 "cells": [
  {
   "cell_type": "code",
   "execution_count": 1,
   "metadata": {},
   "outputs": [],
   "source": [
    "import numpy as np\n",
    "import pandas as pd\n",
    "import re\n",
    "import jieba"
   ]
  },
  {
   "cell_type": "code",
   "execution_count": 27,
   "metadata": {
    "scrolled": true
   },
   "outputs": [
    {
     "data": {
      "text/html": [
       "<div>\n",
       "<style scoped>\n",
       "    .dataframe tbody tr th:only-of-type {\n",
       "        vertical-align: middle;\n",
       "    }\n",
       "\n",
       "    .dataframe tbody tr th {\n",
       "        vertical-align: top;\n",
       "    }\n",
       "\n",
       "    .dataframe thead th {\n",
       "        text-align: right;\n",
       "    }\n",
       "</style>\n",
       "<table border=\"1\" class=\"dataframe\">\n",
       "  <thead>\n",
       "    <tr style=\"text-align: right;\">\n",
       "      <th></th>\n",
       "      <th>id</th>\n",
       "      <th>pno</th>\n",
       "      <th>context_pos</th>\n",
       "      <th>diag_code</th>\n",
       "      <th>tcms_code</th>\n",
       "      <th>tan</th>\n",
       "      <th>feng</th>\n",
       "      <th>ren</th>\n",
       "      <th>yinxu</th>\n",
       "      <th>fei</th>\n",
       "    </tr>\n",
       "  </thead>\n",
       "  <tbody>\n",
       "    <tr>\n",
       "      <th>0</th>\n",
       "      <td>1</td>\n",
       "      <td>1803613</td>\n",
       "      <td>右肺癌术后三月余。 患者面色憔悴；形体消瘦，；言语清晰、流畅；气息平和；舌质稍红，苔少，脉细...</td>\n",
       "      <td>0</td>\n",
       "      <td>0</td>\n",
       "      <td>0</td>\n",
       "      <td>0</td>\n",
       "      <td>0</td>\n",
       "      <td>1</td>\n",
       "      <td>1</td>\n",
       "    </tr>\n",
       "    <tr>\n",
       "      <th>1</th>\n",
       "      <td>2</td>\n",
       "      <td>1802607</td>\n",
       "      <td>右肺癌术后两月余。 患者面色憔悴；形体消瘦，；言语清晰、流畅；气息平和；舌质稍红，苔少，脉细...</td>\n",
       "      <td>0</td>\n",
       "      <td>0</td>\n",
       "      <td>0</td>\n",
       "      <td>0</td>\n",
       "      <td>0</td>\n",
       "      <td>1</td>\n",
       "      <td>1</td>\n",
       "    </tr>\n",
       "    <tr>\n",
       "      <th>2</th>\n",
       "      <td>3</td>\n",
       "      <td>1809724</td>\n",
       "      <td>右肺癌术后8年余，咳嗽气喘加重1周。 患者气喘貌，；言语清晰、流畅；气息尚平和；舌质稍红，苔...</td>\n",
       "      <td>0</td>\n",
       "      <td>0</td>\n",
       "      <td>0</td>\n",
       "      <td>0</td>\n",
       "      <td>0</td>\n",
       "      <td>1</td>\n",
       "      <td>1</td>\n",
       "    </tr>\n",
       "    <tr>\n",
       "      <th>3</th>\n",
       "      <td>4</td>\n",
       "      <td>1710003</td>\n",
       "      <td>右肺癌术后8年余，反复咳嗽气喘半年余。 患者气喘貌，；言语清晰、流畅；气息尚平和；舌质稍红，...</td>\n",
       "      <td>0</td>\n",
       "      <td>0</td>\n",
       "      <td>0</td>\n",
       "      <td>0</td>\n",
       "      <td>0</td>\n",
       "      <td>1</td>\n",
       "      <td>1</td>\n",
       "    </tr>\n",
       "    <tr>\n",
       "      <th>4</th>\n",
       "      <td>5</td>\n",
       "      <td>1613461</td>\n",
       "      <td>右肺癌术后7年余，咳嗽气喘20小时。 患者气喘貌，；言语清晰、流畅；气息尚平和；舌质稍红，苔...</td>\n",
       "      <td>0</td>\n",
       "      <td>0</td>\n",
       "      <td>0</td>\n",
       "      <td>0</td>\n",
       "      <td>0</td>\n",
       "      <td>1</td>\n",
       "      <td>1</td>\n",
       "    </tr>\n",
       "  </tbody>\n",
       "</table>\n",
       "</div>"
      ],
      "text/plain": [
       "   id      pno                                        context_pos  diag_code  \\\n",
       "0   1  1803613  右肺癌术后三月余。 患者面色憔悴；形体消瘦，；言语清晰、流畅；气息平和；舌质稍红，苔少，脉细...          0   \n",
       "1   2  1802607  右肺癌术后两月余。 患者面色憔悴；形体消瘦，；言语清晰、流畅；气息平和；舌质稍红，苔少，脉细...          0   \n",
       "2   3  1809724  右肺癌术后8年余，咳嗽气喘加重1周。 患者气喘貌，；言语清晰、流畅；气息尚平和；舌质稍红，苔...          0   \n",
       "3   4  1710003  右肺癌术后8年余，反复咳嗽气喘半年余。 患者气喘貌，；言语清晰、流畅；气息尚平和；舌质稍红，...          0   \n",
       "4   5  1613461  右肺癌术后7年余，咳嗽气喘20小时。 患者气喘貌，；言语清晰、流畅；气息尚平和；舌质稍红，苔...          0   \n",
       "\n",
       "   tcms_code  tan  feng  ren  yinxu  fei  \n",
       "0          0    0     0    0      1    1  \n",
       "1          0    0     0    0      1    1  \n",
       "2          0    0     0    0      1    1  \n",
       "3          0    0     0    0      1    1  \n",
       "4          0    0     0    0      1    1  "
      ]
     },
     "execution_count": 27,
     "metadata": {},
     "output_type": "execute_result"
    }
   ],
   "source": [
    "data=pd.read_excel(\"./data/data_demo_pos.xls\")\n",
    "data.head()"
   ]
  },
  {
   "cell_type": "code",
   "execution_count": 3,
   "metadata": {},
   "outputs": [],
   "source": [
    "y=data.tcms_code\n",
    "tcme=data.iloc[:,5:]\n",
    "context=data.context_pos"
   ]
  },
  {
   "cell_type": "code",
   "execution_count": 4,
   "metadata": {},
   "outputs": [
    {
     "name": "stdout",
     "output_type": "stream",
     "text": [
      "(1400,) (1400,) (1400, 5)\n"
     ]
    }
   ],
   "source": [
    "print(context.shape,y.shape,tcme.shape)"
   ]
  },
  {
   "cell_type": "code",
   "execution_count": 5,
   "metadata": {},
   "outputs": [
    {
     "name": "stderr",
     "output_type": "stream",
     "text": [
      "Building prefix dict from the default dictionary ...\n",
      "Dumping model to file cache C:\\Users\\Tang\\AppData\\Local\\Temp\\jieba.cache\n",
      "Loading model cost 1.577 seconds.\n",
      "Prefix dict has been built succesfully.\n"
     ]
    }
   ],
   "source": [
    "dictfile=\"./data/tcm_all_dict_2.txt\"\n",
    "stopwords=\"./data/stopwords.txt\"\n",
    "jieba.load_userdict(dictfile)  "
   ]
  },
  {
   "cell_type": "code",
   "execution_count": 6,
   "metadata": {},
   "outputs": [],
   "source": [
    "def load_stopword(filename):  \n",
    "    stopwords = [line.strip() for line in open(filename, 'r', encoding='utf-8').readlines()]  \n",
    "    return stopwords"
   ]
  },
  {
   "cell_type": "code",
   "execution_count": 7,
   "metadata": {},
   "outputs": [],
   "source": [
    "def get_corpus(context,stopwords):\n",
    "    stopword_list=load_stopword(stopwords) \n",
    "    corpus=[]    \n",
    "    \n",
    "    for sent in context:        \n",
    "        strlist=list(jieba.cut(sent))\n",
    "        strlist=sorted(set(strlist),key=strlist.index)\n",
    "        doc_stopword=[y for y in strlist if y not in stopword_list] #drop stopword\n",
    "        corpus.append(doc_stopword)\n",
    "        \n",
    "    return corpus"
   ]
  },
  {
   "cell_type": "code",
   "execution_count": 8,
   "metadata": {},
   "outputs": [],
   "source": [
    "cps=get_corpus(context, stopwords)"
   ]
  },
  {
   "cell_type": "code",
   "execution_count": 9,
   "metadata": {},
   "outputs": [],
   "source": [
    "#TextCNN - TCM syndrome"
   ]
  },
  {
   "cell_type": "code",
   "execution_count": 10,
   "metadata": {},
   "outputs": [
    {
     "name": "stderr",
     "output_type": "stream",
     "text": [
      "Using TensorFlow backend.\n"
     ]
    }
   ],
   "source": [
    "from keras.preprocessing.text import Tokenizer\n",
    "from keras.preprocessing.sequence import pad_sequences\n",
    "from keras.utils import to_categorical\n",
    "import numpy as np"
   ]
  },
  {
   "cell_type": "code",
   "execution_count": 11,
   "metadata": {},
   "outputs": [],
   "source": [
    "MAX_SEQUENCE_LENGTH =64\n",
    "EMBEDDING_DIM = 256\n",
    "VALIDATION_SPLIT = 0.16 \n",
    "TEST_SPLIT = 0.2"
   ]
  },
  {
   "cell_type": "code",
   "execution_count": 12,
   "metadata": {},
   "outputs": [
    {
     "name": "stdout",
     "output_type": "stream",
     "text": [
      "Found 1077 unique tokens.\n"
     ]
    }
   ],
   "source": [
    "y=data.tcms_code\n",
    "all_texts=cps\n",
    "tokenizer = Tokenizer()\n",
    "tokenizer.fit_on_texts(all_texts)\n",
    "sequences = tokenizer.texts_to_sequences(all_texts)\n",
    "word_index = tokenizer.word_index\n",
    "print('Found %s unique tokens.' % len(word_index))\n",
    "\n",
    "datatxt = pad_sequences(sequences, maxlen=MAX_SEQUENCE_LENGTH)\n",
    "labels = to_categorical(np.asarray(y),num_classes=None)"
   ]
  },
  {
   "cell_type": "code",
   "execution_count": 13,
   "metadata": {},
   "outputs": [],
   "source": [
    "from sklearn.model_selection import train_test_split\n",
    "#x=datatxt\n",
    "#y1=labels\n",
    "x_train, x_test, y_train, y_test=train_test_split(datatxt,labels,test_size=0.2,random_state=None)"
   ]
  },
  {
   "cell_type": "code",
   "execution_count": 14,
   "metadata": {},
   "outputs": [],
   "source": [
    "from keras.layers import Dense, Input, Flatten, Dropout\n",
    "from keras.layers import Conv1D, MaxPooling1D, Embedding\n",
    "from keras.models import Sequential"
   ]
  },
  {
   "cell_type": "code",
   "execution_count": 15,
   "metadata": {},
   "outputs": [
    {
     "name": "stdout",
     "output_type": "stream",
     "text": [
      "WARNING:tensorflow:From d:\\code\\anaconda3\\lib\\site-packages\\tensorflow\\python\\framework\\op_def_library.py:263: colocate_with (from tensorflow.python.framework.ops) is deprecated and will be removed in a future version.\n",
      "Instructions for updating:\n",
      "Colocations handled automatically by placer.\n",
      "WARNING:tensorflow:From d:\\code\\anaconda3\\lib\\site-packages\\keras\\backend\\tensorflow_backend.py:3445: calling dropout (from tensorflow.python.ops.nn_ops) with keep_prob is deprecated and will be removed in a future version.\n",
      "Instructions for updating:\n",
      "Please use `rate` instead of `keep_prob`. Rate should be set to `rate = 1 - keep_prob`.\n",
      "_________________________________________________________________\n",
      "Layer (type)                 Output Shape              Param #   \n",
      "=================================================================\n",
      "embedding_1 (Embedding)      (None, 64, 256)           275968    \n",
      "_________________________________________________________________\n",
      "dropout_1 (Dropout)          (None, 64, 256)           0         \n",
      "_________________________________________________________________\n",
      "conv1d_1 (Conv1D)            (None, 64, 512)           393728    \n",
      "_________________________________________________________________\n",
      "max_pooling1d_1 (MaxPooling1 (None, 32, 512)           0         \n",
      "_________________________________________________________________\n",
      "flatten_1 (Flatten)          (None, 16384)             0         \n",
      "_________________________________________________________________\n",
      "dense_1 (Dense)              (None, 256)               4194560   \n",
      "_________________________________________________________________\n",
      "dense_2 (Dense)              (None, 4)                 1028      \n",
      "=================================================================\n",
      "Total params: 4,865,284\n",
      "Trainable params: 4,865,284\n",
      "Non-trainable params: 0\n",
      "_________________________________________________________________\n"
     ]
    }
   ],
   "source": [
    "model = Sequential()\n",
    "model.add(Embedding(len(word_index) + 1, EMBEDDING_DIM, input_length=MAX_SEQUENCE_LENGTH))\n",
    "model.add(Dropout(0.2))\n",
    "model.add(Conv1D(512, 3, padding='same', activation='relu', strides=1))\n",
    "model.add(MaxPooling1D(2))\n",
    "model.add(Flatten())\n",
    "model.add(Dense(EMBEDDING_DIM, activation='relu'))\n",
    "model.add(Dense(labels.shape[1], activation='softmax'))\n",
    "model.summary()"
   ]
  },
  {
   "cell_type": "code",
   "execution_count": 16,
   "metadata": {},
   "outputs": [
    {
     "name": "stdout",
     "output_type": "stream",
     "text": [
      "WARNING:tensorflow:From d:\\code\\anaconda3\\lib\\site-packages\\tensorflow\\python\\ops\\math_ops.py:3066: to_int32 (from tensorflow.python.ops.math_ops) is deprecated and will be removed in a future version.\n",
      "Instructions for updating:\n",
      "Use tf.cast instead.\n",
      "Train on 896 samples, validate on 224 samples\n",
      "Epoch 1/8\n",
      "896/896 [==============================] - 6s 7ms/step - loss: 0.8931 - acc: 0.6272 - val_loss: 0.5493 - val_acc: 0.7902\n",
      "Epoch 2/8\n",
      "896/896 [==============================] - 4s 5ms/step - loss: 0.2762 - acc: 0.8929 - val_loss: 0.3133 - val_acc: 0.8795\n",
      "Epoch 3/8\n",
      "896/896 [==============================] - 5s 5ms/step - loss: 0.1417 - acc: 0.9531 - val_loss: 0.3838 - val_acc: 0.8571\n",
      "Epoch 4/8\n",
      "896/896 [==============================] - 5s 5ms/step - loss: 0.0910 - acc: 0.9665 - val_loss: 0.2994 - val_acc: 0.8973\n",
      "Epoch 5/8\n",
      "896/896 [==============================] - 5s 5ms/step - loss: 0.0472 - acc: 0.9844 - val_loss: 0.3248 - val_acc: 0.9196\n",
      "Epoch 6/8\n",
      "896/896 [==============================] - 5s 5ms/step - loss: 0.0349 - acc: 0.9866 - val_loss: 0.3349 - val_acc: 0.9062\n",
      "Epoch 7/8\n",
      "896/896 [==============================] - 5s 5ms/step - loss: 0.0225 - acc: 0.9955 - val_loss: 0.3767 - val_acc: 0.9018\n",
      "Epoch 8/8\n",
      "896/896 [==============================] - 5s 5ms/step - loss: 0.0155 - acc: 0.9944 - val_loss: 0.3627 - val_acc: 0.9107\n",
      "accuracy: 0.932142858845847\n"
     ]
    }
   ],
   "source": [
    "model.compile(loss='categorical_crossentropy', optimizer='adam', metrics=['accuracy'])\n",
    "#model.compile(loss='binary_crossentropy', optimizer='adam', metrics=['accuracy'])\n",
    "#model.fit(x_train, y_train, batch_size=64, epochs=4, verbose=1, validation_data=(x_test, y_test)) \n",
    "model.fit(x_train, y_train, batch_size=32, epochs=8, verbose=1, validation_split=0.2, shuffle=True) \n",
    "#score1 = model.evaluate(x_train,y_train, verbose=0)\n",
    "score2 = model.evaluate(x_test,y_test, verbose=0)\n",
    "print(\"accuracy:\",score2[1])"
   ]
  },
  {
   "cell_type": "code",
   "execution_count": 17,
   "metadata": {},
   "outputs": [],
   "source": [
    "#TextCNN - TCM element"
   ]
  },
  {
   "cell_type": "code",
   "execution_count": 18,
   "metadata": {},
   "outputs": [],
   "source": [
    "from keras.preprocessing.text import Tokenizer\n",
    "from keras.preprocessing.sequence import pad_sequences\n",
    "from keras.utils import to_categorical\n",
    "import numpy as np"
   ]
  },
  {
   "cell_type": "code",
   "execution_count": 19,
   "metadata": {},
   "outputs": [],
   "source": [
    "MAX_SEQUENCE_LENGTH =64\n",
    "EMBEDDING_DIM = 256\n",
    "VALIDATION_SPLIT = 0.16 \n",
    "TEST_SPLIT = 0.2"
   ]
  },
  {
   "cell_type": "code",
   "execution_count": 20,
   "metadata": {},
   "outputs": [],
   "source": [
    "from sklearn.preprocessing import MultiLabelBinarizer\n",
    "mlb=MultiLabelBinarizer()"
   ]
  },
  {
   "cell_type": "code",
   "execution_count": 21,
   "metadata": {
    "collapsed": true
   },
   "outputs": [
    {
     "name": "stdout",
     "output_type": "stream",
     "text": [
      "Found 1077 unique tokens.\n",
      "Shape of data tensor: (1400, 64)\n",
      "Shape of label tensor: (1400, 5)\n",
      "{' ': 1, '咳嗽': 2, '咳痰': 3, '患者': 4, '为主': 5, '舌质': 6, '精神': 7, '面色': 8, '诉': 9, '结合': 10, '红': 11, '苔': 12, '舌脉': 13, '痰': 14, '清晰': 15, '阵发性': 16, '天': 17, '发热': 18, '二便': 19, '言语': 20, '伴': 21, '脉滑': 22, '胸闷': 23, '稍': 24, '气喘': 25, '正常': 26, '神清': 27, '咯痰': 28, '形体': 29, '双目': 30, '呼吸': 31, '发育': 32, '营养': 33, '应答': 34, '自如': 35, '语声': 36, '调': 37, '少神': 38, '有神': 39, '清': 40, '黄腻': 41, '食纳': 42, '少华': 43, '舌红': 44, '平稳': 45, '适中': 46, '行动自如': 47, '淡红': 48, '白腻': 49, '加重': 50, '后': 51, '表情': 52, '声音洪亮': 53, '脉浮': 54, '月余': 55, '尚可': 56, '神志': 57, '不易': 58, '活动': 59, '苔薄': 60, '咯出': 61, '气促': 62, '一周': 63, '精神不振': 64, '数': 65, '黄': 66, '脉滑数': 67, '中等': 68, '脉细': 69, '症': 70, '脉细数': 71, '响亮': 72, '苔少': 73, '肺癌': 74, '乏力': 75, '患儿': 76, '良好': 77, '余': 78, '咯': 79, '粘': 80, '欠佳': 81, '自然': 82, '三天': 83, '咯吐': 84, '粘痰': 85, '十余天': 86, '时有': 87, '伴有': 88, '月': 89, '痛苦': 90, '咳声': 91, '纳差': 92, '气息': 93, '平和': 94, '流畅': 95, '少苔': 96, '少量': 97, '轻微': 98, '睡眠': 99, '白色': 100, '胸痛': 101, '反复': 102, '明显': 103, '咳出': 104, '薄': 105, '红润': 106, '神识': 107, '憔悴': 108, '不': 109, '舌': 110, '不适': 111, '一天': 112, '入院': 113, '白痰': 114, '四天': 115, '白': 116, '畏寒': 117, '呈': 118, '痰中带血': 119, '语声低微': 120, '面容': 121, '腻': 122, '微黄': 123, '发现': 124, '确诊': 125, '右': 126, '量': 127, '年': 128, '术后': 129, '周': 130, '五天': 131, '消瘦': 132, '偶有': 133, '不佳': 134, '咯血': 135, '余天': 136, '间断': 137, '干咳': 138, '疼痛': 139, '两天': 140, '差': 141, '黄白': 142, '收住': 143, '黄痰': 144, '粘色': 145, '岁': 146, '一月': 147, '白量': 148, '占位': 149, '少': 150, '小时': 151, '半月': 152, '间': 153, '舌淡': 154, '荣润': 155, '色': 156, '少许': 157, '质': 158, '全身': 159, '年余': 160, '化疗': 161, '左侧': 162, '欠振': 163, '苔薄白': 164, '扁桃体': 165, '稍腻': 166, '门诊': 167, '右侧': 168, '证': 169, '脉象': 170, '偏淡': 171, '男': 172, '阵发': 173, '尚调': 174, '舌苔': 175, '尚': 176, '量少': 177, '萎': 178, '苔腻': 179, '咳白': 180, '喉间': 181, '咽红': 182, '畅': 183, '咯吐白': 184, '自觉': 185, '潮红': 186, '双侧': 187, '饮食': 188, '感': 189, '再发': 190, '时': 191, '右肺': 192, '不能': 193, '色白': 194, '淡': 195, '程后': 196, '少痰': 197, '大便': 198, '黄色': 199, '两': 200, '动则': 201, '半天': 202, '纳食': 203, '难以': 204, '苔薄少': 205, '纳眠': 206, '二十余天': 207, '一年': 208, '尤甚': 209, '余年': 210, '尚有': 211, '神': 212, '脉细弱': 213, '吐': 214, '天伴': 215, '左肺': 216, '胀痛': 217, '稍红': 218, '剧烈': 219, '咽': 220, '出': 221, '尚畅': 222, '皮疹': 223, '干': 224, '瘦': 225, '小便': 226, '连咳': 227, '约': 228, '肿大': 229, '稍促': 230, '欠安': 231, '苔脉': 232, '咳嗽气喘': 233, '黑': 234, '气急': 235, '散': 236, '语': 237, '恶心': 238, '夜寐': 239, '头痛': 240, '°': 241, '热性': 242, '胸廓': 243, '桶装': 244, '转移': 245, '双下肢': 246, '头晕': 247, '休息': 248, '稠痰': 249, '鲜红': 250, '苔白': 251, '咳吐白': 252, '脉弦': 253, '咽痒': 254, '鸣': 255, '十天': 256, '易咯': 257, '放化疗': 258, '背部': 259, '夜间': 260, '咳血': 261, '喉中': 262, '胸部': 263, '口': 264, '脉数': 265, '萎靡': 266, '稍感': 267, '白质': 268, '貌': 269, '半年': 270, '肺部': 271, '不安': 272, '连声': 273, '尚易': 274, '气管': 275, '切开': 276, '腹胀': 277, '浮肿': 278, '稍萎': 279, '咽痛': 280, '恶寒发热': 281, '咳吐': 282, '嗜睡': 283, '四月': 284, '12': 285, '下肢': 286, '气短': 287, '时感': 288, '血丝': 289, '黄白色': 290, '乏神': 291, '神志不清': 292, '放疗': 293, '11': 294, '左': 295, '后感': 296, '肋部': 297, '细胞': 298, '欲': 299, '舌质暗红': 300, '仍': 301, '多色': 302, '通畅': 303, '晄': 304, '三月': 305, '脉': 306, '骨转移': 307, '进食': 308, '暂': 309, '血色': 310, '痰量': 311, '咯白': 312, '小': 313, 'ⅱ': 314, 'ⅰ': 315, '黄量': 316, '泡沫': 317, '夜寐尚安': 318, '相间': 319, '面色萎白': 320, '肝': 321, '女': 322, '呕吐': 323, '背痛': 324, '细': 325, '胁': 326, '部': 327, '暗红': 328, '减轻': 329, '干咳少痰': 330, '近': 331, '易于': 332, '样痰': 333, '急促': 334, '脑外伤': 335, '粘量': 336, '左下': 337, '肺非': 338, '伴肝': 339, '15': 340, '进行性': 341, '肺': 342, '偏红': 343, '上': 344, '缓解': 345, '夜寐安': 346, '胸': 347, '恶心呕吐': 348, '晨起': 349, '反酸': 350, '腹部': 351, '厚腻': 352, '阵作': 353, '尚平': 354, '两周': 355, '黄质': 356, '六天': 357, '水肿': 358, '声嘶': 359, '腹泻': 360, '痛': 361, '两月': 362, '鲜红色': 363, '10ml': 364, '中': 365, '平卧': 366, '声音': 367, '较响': 368, '晦暗': 369, '黄粘痰': 370, '黏': 371, '丝': 372, '体温': 373, '呼吸困难': 374, '易': 375, '充血': 376, '七年': 377, '寒战': 378, '深吸气': 379, '夹': 380, '脑出血': 381, '质稠': 382, '痰质': 383, '粘稠': 384, '二十天': 385, '肢体': 386, '神疲乏力': 387, '腺癌': 388, '脑': 389, '伴咽': 390, '脉弦滑': 391, '隐痛': 392, '模糊': 393, '咳时': 394, '再': 395, '发伴': 396, '结代': 397, '性': 398, '咳黄': 399, '嘶哑': 400, '心慌': 401, '偶咳': 402, 'nan': 403, 'na': 404, '最高': 405, '粘难': 406, '辨病': 407, '哭声': 408, '食纳夜': 409, '寐': 410, '食': 411, '食纳及': 412, '七天': 413, '半余': 414, '五月': 415, '苔薄腻': 416, '咯较': 417, '本案': 418, '夜寐差': 419, '苦': 420, '久立': 421, '鼻塞': 422, '间发': 423, '面': 424, '不清': 425, '见': 426, '泡沫痰': 427, '舌红少苔': 428, '声咳': 429, '间歇性': 430, '酸痛': 431, '骨折': 432, '昏迷': 433, '十余年': 434, '浅黄色': 435, '治疗': 436, '咳喘': 437, '两年': 438, '腰痛': 439, '65': 440, '半': 441, '皮肤': 442, '平': 443, '14': 444, '意识': 445, '四年': 446, '四肢': 447, '腹痛': 448, '清楚': 449, '病变': 450, '肿块': 451, '结': 452, '刺激性': 453, '胃脘': 454, '53': 455, '颈部': 456, '暂时': 457, '困难': 458, '61': 459, '虚火': 460, '灼络': 461, '肺络': 462, '损伤': 463, '咽干': 464, '中带': 465, '甚': 466, '盗汗': 467, '鳞癌': 468, '摄氏度': 469, '一次': 470, '次': 471, '规则': 472, '淡紫': 473, '外伤': 474, '颈椎': 475, '脓痰': 476, '保留': 477, '导尿': 478, '多质': 479, '大量': 480, '交流': 481, '痰色': 482, '六月': 483, '复发': 484, '伽马刀': 485, '障碍': 486, '后近': 487, '19': 488, '朱秋生': 489, '66': 490, '09': 491, '69': 492, 'cea': 493, '增高': 494, '斑疹': 495, '相': 496, '18': 497, '17': 498, '周余': 499, '16': 500, '轻度': 501, '九月': 502, '三年': 503, '骨痛': 504, '低热': 505, '主诉': 506, '夜寐可': 507, '日': 508, '胸胁': 509, '痒': 510, '斤': 511, '症状': 512, '暗红色': 513, '49': 514, '深呼吸': 515, '影响': 516, '流清涕': 517, '恶心欲呕': 518, '鼻饲': 519, '口干口': 520, '局部': 521, '皮温': 522, '不高': 523, '慢性': 524, '端坐': 525, '天余': 526, '恶寒': 527, '站立': 528, '鲜血': 529, '夹有': 530, '难解': 531, '十余': 532, '反应': 533, '黄微腻': 534, '流涕': 535, '指纹': 536, '隐于': 537, '风关': 538, '抽搐': 539, '38.5': 540, '持续性': 541, '脉弦数': 542, '口中': 543, '面色萎黄': 544, '尚安': 545, '尚清': 546, '难咯': 547, '黄易': 548, '少质': 549, '人': 550, '尚能': 551, '少色': 552, '脸颊': 553, '凹陷': 554, '纳可': 555, '细涩': 556, '三周': 557, '31': 558, '06': 559, '04': 560, '淋巴结': 561, '54': 562, '体检': 563, '体态': 564, '脉略细': 565, '45': 566, '手足心热': 567, '烦躁': 568, '肿胀': 569, '诊断': 570, '21': 571, '十一月': 572, '腰背痛': 573, '主要症状': 574, '26': 575, '五年': 576, '频繁': 577, '内容': 578, '右手': 579, '64': 580, '较差': 581, '及右': 582, '现': 583, '服用': 584, '盐酸': 585, '吗啡': 586, '缓释片': 587, '止痛': 588, '效果': 589, '好转': 590, '73': 591, '肩痛': 592, '胸前': 593, '62': 594, '粉红色': 595, '近期': 596, '体重': 597, '下降': 598, '紧': 599, '改变': 600, '近两年来': 601, '少难': 602, '大小便': 603, '低微': 604, '血量': 605, '样': 606, '头部': 607, '饮': 608, '次数': 609, '57': 610, '心悸': 611, '不成形': 612, '咽部': 613, '异物感': 614, '5ml': 615, '倦怠': 616, '72': 617, '窦': 618, '道': 619, '脓液': 620, '流出': 621, '颜面': 622, '皆': 623, '热内': 624, '盛之证': 625, '双手': 626, '长期': 627, '剑': 628, '突下': 629, '重度': 630, '100ml': 631, '50ml': 632, '27': 633, '喉': 634, '右中': 635, '肺叶切除术': 636, '反应迟钝': 637, '稍显': 638, '迟钝': 639, '28': 640, '13': 641, '轻': 642, '重': 643, '偶作': 644, '气粗': 645, '口腔': 646, '间歇': 647, '下眼睑': 648, '咽痛伴': 649, '不详': 650, '身痛': 651, '高热': 652, '仍感': 653, '二月': 654, '食管癌': 655, '欠清': 656, '失禁': 657, '面色苍白': 658, '仍诉': 659, '三': 660, '口唇': 661, '肌肉': 662, '汗出': 663, '排痰': 664, '流质': 665, '呃逆': 666, '十五天': 667, '稍白': 668, '左手': 669, '前': 670, '质红': 671, '多难': 672, '多易': 673, '腹肌': 674, '数日': 675, '苔浊': 676, '稍事': 677, '突发': 678, '十月': 679, '八月': 680, '自主': 681, '稀': 682, '痴呆': 683, '状': 684, '发作': 685, '二天': 686, '半卧位': 687, '更': 688, '濡': 689, '滑': 690, '解': 691, '粘液性': 692, '血便': 693, '跌倒': 694, '二': 695, '腰背': 696, '08': 697, '唐有': 698, '德': 699, '02': 700, '纵膈': 701, '43': 702, '臧根生': 703, '肋间': 704, '一程': 705, '瘤': 706, '介入': 707, '末次': 708, '弦': 709, '59': 710, '蔡秀娣': 711, '22': 712, '胸膜': 713, '舌淡苔薄白': 714, '次后': 715, '三程': 716, '两程': 717, '左乳': 718, '多发性': 719, '多发': 720, '时时': 721, '胸腔积液': 722, '右下': 723, '行走': 724, '僵硬': 725, '多处': 726, '破溃': 727, '低弱': 728, '脉虚细': 729, '娥': 730, '耳边': 731, '哎调': 732, '32': 733, '结节': 734, '上半身': 735, '出汗': 736, '间感': 737, '较前': 738, '邱': 739, '脐下': 740, '79': 741, '视物': 742, '肺大泡': 743, '乳腺癌': 744, '90mgq1h': 745, '30mgq8h': 746, '肋': 747, '便秘': 748, '75': 749, '区': 750, '泛酸': 751, '劳累': 752, '58': 753, '血小板减少': 754, '综合': 755, '半个': 756, '带血': 757, '体征': 758, '病史': 759, '中医': 760, '性质': 761, '块': 762, '踝关节': 763, '血液': 764, '48': 765, '上肢': 766, '瘫痪': 767, '双': 768, '头颈部': 769, '吞咽': 770, '闷胀': 771, '食入': 772, '红少苔': 773, '水样': 774, '稀便': 775, '饱胀': 776, '自愈': 777, '持续': 778, '多食': 779, '多尿': 780, '黄脉': 781, '体位': 782, '伴间': 783, '发': 784, '胃': 785, '物': 786, '说胡话': 787, '胸骨': 788, '前区': 789, '日间': 790, '失控': 791, '区及': 792, '咳嗽声': 793, '嘶': 794, '结节病': 795, '变': 796, '39.7': 797, '手术': 798, '之少神': 799, '不欲': 800, '入睡': 801, '肩部': 802, '血': 803, '10kg': 804, '少苔脉': 805, '左胁': 806, '苔红': 807, '15ml': 808, '现在': 809, '雷诺': 810, '现象': 811, '行动迟缓': 812, '白糖': 813, '头胀': 814, '痛痛': 815, '前额': 816, '饮水': 817, '大声': 818, '说话': 819, '及胁': 820, '伴胸': 821, '天大': 822, '便': 823, '黄干': 824, '液': 825, '口干咽': 826, '再次': 827, '20ml': 828, '现转': 829, '51': 830, '排尿困难': 831, '87': 832, '腰骶部': 833, '劳力': 834, '青': 835, '半身不遂': 836, '少气': 837, '懒言': 838, '少白': 839, '中喘鸣': 840, '沉细': 841, '时量': 842, '烧心': 843, '500ml': 844, '舌舌质': 845, '十一': 846, '03': 847, '41': 848, '杨雪军': 849, '男性': 850, '待查': 851, '2015': 852, '47': 853, '急诊': 854, '身': 855, '困乏': 856, '力': 857, '伴身': 858, '手足': 859, '吐泻': 860, '表面': 861, '脓性': 862, '分泌物': 863, '疲乏': 864, '内': 865, '周伴': 866, '流黄': 867, '浓涕': 868, '偶阵': 869, '23': 870, '双眼': 871, '球': 872, '结膜': 873, '天余伴': 874, '声': 875, '食欲': 876, '具体': 877, '手麻': 878, '失眠': 879, '外感': 880, '风热': 881, '风热犯': 882, '肺失': 883, '宣降': 884, '犯表': 885, '卫表': 886, '热邪': 887, '蒸津': 888, '见口': 889, '薄黄': 890, '黄脉滑': 891, '单选': 892, '软瘫': 893, '昏睡': 894, '40.2': 895, '颈项': 896, '头闷': 897, '38.7': 898, '39': 899, '不祥': 900, '酸胀': 901, '枕叶': 902, '弥漫': 903, '大': 904, '淋巴瘤': 905, '胁痛': 906, '协痛': 907, '股骨': 908, '转子': 909, '受限': 910, '基底节': 911, '血肿': 912, '穿刺': 913, '引流术': 914, '四': 915, '血糖': 916, '36': 917, '数十口': 918, '术': 919, '七月': 920, '腰大池': 921, '腹腔分流术': 922, '二周': 923, '呼之能': 924, '睁眼': 925, '执行': 926, '简单': 927, '指令': 928, '近身': 929, '闻及': 930, '异常': 931, '气味': 932, '以纳少': 933, '口干': 934, '尿': 935, '喘伴': 936, '程度': 937, '仅': 938, '咳嗽痰多': 939, '曾': 940, '加剧': 941, '黄脓质': 942, '粘尚能': 943, '偏暗': 944, '致': 945, '紫绀': 946, '排尿': 947, '色黄': 948, '苍白': 949, '季肋区': 950, '唤之能': 951, '醒': 952, '准确': 953, '回答': 954, '问题': 955, '样粘痰': 956, '稍差': 957, '十二天': 958, '十多天': 959, '可咯': 960, '体型': 961, '自行': 962, '三十余': 963, '周身': 964, '夜': 965, '尿频': 966, '日一解': 967, '并感': 968, '两侧': 969, '质稠尚': 970, '极度': 971, '钝痛': 972, '黄难': 973, '拇指': 974, '第一': 975, '指关节': 976, '肿痛': 977, '呕血': 978, '八小时': 979, '间质性': 980, '肺病': 981, '52': 982, '吴锁根': 983, '74': 984, '咯吐黄': 985, '偶': 986, '促': 987, '带有': 988, '三次': 989, '咯痰不爽': 990, '起初': 991, '总量': 992, '200ml': 993, '两口': 994, '病程': 995, '背': 996, '红肿': 997, '贫血': 998, '右胁': 999, '右上': 1000, '耐力': 1001, '减低': 1002, '一解': 1003, '针刺': 1004, '24': 1005, '伴食': 1006, '萎稍': 1007, '恶心感': 1008, '喘': 1009, '六小时': 1010, '淡漠': 1011, '鼻唇沟': 1012, '不浅': 1013, '口角': 1014, '暗': 1015, '平时': 1016, '增多': 1017, '鸣音': 1018, '辨证': 1019, '依据': 1020, '少数': 1021, '中等量': 1022, '偏干': 1023, '29': 1024, '疑难': 1025, '危重': 1026, '病例': 1027, '讨论': 1028, '记录': 1029, '地点': 1030, '八': 1031, '病区': 1032, '医生': 1033, '办公室': 1034, '参加': 1035, '人员': 1036, '朱正辉科': 1037, '主任医师': 1038, '王雪梅': 1039, '主治': 1040, '中医师': 1041, '束燕铭': 1042, '谭寅巍': 1043, '住院医师': 1044, '周一': 1045, '民': 1046, '王玉瑾': 1047, '住院': 1048, '有力': 1049, '大便干结': 1050, '胀满': 1051, '后咽': 1052, '呛咳': 1053, '十小时': 1054, '白尚易': 1055, '时伴': 1056, '下腹': 1057, '不利': 1058, '暂缺': 1059, '色白易咯': 1060, '伴月': 1061, '欠畅': 1062, '调畅': 1063, '嗳气': 1064, '颤动': 1065, '偏少': 1066, '排出': 1067, '较易': 1068, '四十天': 1069, '安': 1070, '麻木': 1071, '汗': 1072, '刻': 1073, '少易': 1074, '头昏': 1075, '偶感': 1076, '粘易': 1077}\n"
     ]
    }
   ],
   "source": [
    "ym=pd.DataFrame(tcme)\n",
    "\n",
    "all_texts=cps\n",
    "tokenizer = Tokenizer()\n",
    "tokenizer.fit_on_texts(all_texts)\n",
    "sequences = tokenizer.texts_to_sequences(all_texts)\n",
    "word_index = tokenizer.word_index\n",
    "print('Found %s unique tokens.' % len(word_index))\n",
    "datatxt = pad_sequences(sequences, maxlen=MAX_SEQUENCE_LENGTH)\n",
    "#labels = to_categorical(np.asarray(y),num_classes=None)\n",
    "print('Shape of data tensor:', datatxt.shape)\n",
    "print('Shape of label tensor:', ym.shape)\n",
    "print(word_index)"
   ]
  },
  {
   "cell_type": "code",
   "execution_count": 22,
   "metadata": {},
   "outputs": [],
   "source": [
    "from sklearn.model_selection import train_test_split\n",
    "x=datatxt\n",
    "#ym=pd.DataFrame(outm)\n",
    "x_train, x_test, y_train, y_test=train_test_split(x,ym,test_size=0.20,random_state=0)"
   ]
  },
  {
   "cell_type": "code",
   "execution_count": 23,
   "metadata": {},
   "outputs": [
    {
     "data": {
      "text/html": [
       "<div>\n",
       "<style scoped>\n",
       "    .dataframe tbody tr th:only-of-type {\n",
       "        vertical-align: middle;\n",
       "    }\n",
       "\n",
       "    .dataframe tbody tr th {\n",
       "        vertical-align: top;\n",
       "    }\n",
       "\n",
       "    .dataframe thead th {\n",
       "        text-align: right;\n",
       "    }\n",
       "</style>\n",
       "<table border=\"1\" class=\"dataframe\">\n",
       "  <thead>\n",
       "    <tr style=\"text-align: right;\">\n",
       "      <th></th>\n",
       "      <th>tan</th>\n",
       "      <th>feng</th>\n",
       "      <th>ren</th>\n",
       "      <th>yinxu</th>\n",
       "      <th>fei</th>\n",
       "    </tr>\n",
       "  </thead>\n",
       "  <tbody>\n",
       "    <tr>\n",
       "      <th>1110</th>\n",
       "      <td>1</td>\n",
       "      <td>0</td>\n",
       "      <td>0</td>\n",
       "      <td>0</td>\n",
       "      <td>1</td>\n",
       "    </tr>\n",
       "    <tr>\n",
       "      <th>310</th>\n",
       "      <td>0</td>\n",
       "      <td>0</td>\n",
       "      <td>0</td>\n",
       "      <td>1</td>\n",
       "      <td>1</td>\n",
       "    </tr>\n",
       "    <tr>\n",
       "      <th>776</th>\n",
       "      <td>1</td>\n",
       "      <td>0</td>\n",
       "      <td>1</td>\n",
       "      <td>0</td>\n",
       "      <td>1</td>\n",
       "    </tr>\n",
       "    <tr>\n",
       "      <th>491</th>\n",
       "      <td>0</td>\n",
       "      <td>1</td>\n",
       "      <td>1</td>\n",
       "      <td>0</td>\n",
       "      <td>1</td>\n",
       "    </tr>\n",
       "    <tr>\n",
       "      <th>1063</th>\n",
       "      <td>1</td>\n",
       "      <td>0</td>\n",
       "      <td>0</td>\n",
       "      <td>0</td>\n",
       "      <td>1</td>\n",
       "    </tr>\n",
       "  </tbody>\n",
       "</table>\n",
       "</div>"
      ],
      "text/plain": [
       "      tan  feng  ren  yinxu  fei\n",
       "1110    1     0    0      0    1\n",
       "310     0     0    0      1    1\n",
       "776     1     0    1      0    1\n",
       "491     0     1    1      0    1\n",
       "1063    1     0    0      0    1"
      ]
     },
     "execution_count": 23,
     "metadata": {},
     "output_type": "execute_result"
    }
   ],
   "source": [
    "y_test.head()"
   ]
  },
  {
   "cell_type": "code",
   "execution_count": 24,
   "metadata": {},
   "outputs": [],
   "source": [
    "from keras.layers import Dense, Input, Flatten, Dropout\n",
    "from keras.layers import Conv1D, MaxPooling1D, Embedding\n",
    "from keras.models import Sequential"
   ]
  },
  {
   "cell_type": "code",
   "execution_count": 25,
   "metadata": {},
   "outputs": [
    {
     "name": "stdout",
     "output_type": "stream",
     "text": [
      "_________________________________________________________________\n",
      "Layer (type)                 Output Shape              Param #   \n",
      "=================================================================\n",
      "embedding_2 (Embedding)      (None, 64, 256)           275968    \n",
      "_________________________________________________________________\n",
      "dropout_2 (Dropout)          (None, 64, 256)           0         \n",
      "_________________________________________________________________\n",
      "conv1d_2 (Conv1D)            (None, 64, 512)           393728    \n",
      "_________________________________________________________________\n",
      "max_pooling1d_2 (MaxPooling1 (None, 32, 512)           0         \n",
      "_________________________________________________________________\n",
      "flatten_2 (Flatten)          (None, 16384)             0         \n",
      "_________________________________________________________________\n",
      "dense_3 (Dense)              (None, 256)               4194560   \n",
      "_________________________________________________________________\n",
      "dense_4 (Dense)              (None, 5)                 1285      \n",
      "=================================================================\n",
      "Total params: 4,865,541\n",
      "Trainable params: 4,865,541\n",
      "Non-trainable params: 0\n",
      "_________________________________________________________________\n"
     ]
    }
   ],
   "source": [
    "model = Sequential()\n",
    "model.add(Embedding(len(word_index) + 1, EMBEDDING_DIM, input_length=MAX_SEQUENCE_LENGTH))\n",
    "model.add(Dropout(0.2))\n",
    "model.add(Conv1D(512, 3, padding='same', activation='relu', strides=1))\n",
    "model.add(MaxPooling1D(2))\n",
    "model.add(Flatten())\n",
    "model.add(Dense(EMBEDDING_DIM, activation='relu'))\n",
    "#model.add(Dense(ym.shape[1], activation='softmax')) #multiclass\n",
    "model.add(Dense(ym.shape[1], activation='sigmoid')) #multilabel\n",
    "model.summary()"
   ]
  },
  {
   "cell_type": "code",
   "execution_count": 26,
   "metadata": {},
   "outputs": [
    {
     "name": "stdout",
     "output_type": "stream",
     "text": [
      "Train on 896 samples, validate on 224 samples\n",
      "Epoch 1/4\n",
      "896/896 [==============================] - 5s 6ms/step - loss: 0.4419 - acc: 0.7654 - val_loss: 0.2974 - val_acc: 0.8848\n",
      "Epoch 2/4\n",
      "896/896 [==============================] - 4s 4ms/step - loss: 0.2288 - acc: 0.9112 - val_loss: 0.1367 - val_acc: 0.9607\n",
      "Epoch 3/4\n",
      "896/896 [==============================] - 4s 4ms/step - loss: 0.1081 - acc: 0.9600 - val_loss: 0.0907 - val_acc: 0.9652\n",
      "Epoch 4/4\n",
      "896/896 [==============================] - 4s 4ms/step - loss: 0.0629 - acc: 0.9746 - val_loss: 0.0745 - val_acc: 0.9705\n",
      "0.9742857166699\n"
     ]
    }
   ],
   "source": [
    "model.compile(loss='binary_crossentropy', optimizer='adam', metrics=[\"acc\"]) \n",
    "#model.compile(loss='categorical_crossentropy', optimizer='adam', metrics=[\"acc\"]) \n",
    "#model.fit(x_train, y_train, batch_size=64, epochs=4, verbose=1, validation_data=(x_test, y_test)) \n",
    "model.fit(x_train, y_train, batch_size=64, epochs=4, verbose=1, validation_split=0.2, shuffle=True)\n",
    "score = model.evaluate(x_test,y_test, verbose=0)\n",
    "print(score[1])"
   ]
  },
  {
   "cell_type": "code",
   "execution_count": null,
   "metadata": {},
   "outputs": [],
   "source": []
  }
 ],
 "metadata": {
  "kernelspec": {
   "display_name": "Python 3",
   "language": "python",
   "name": "python3"
  },
  "language_info": {
   "codemirror_mode": {
    "name": "ipython",
    "version": 3
   },
   "file_extension": ".py",
   "mimetype": "text/x-python",
   "name": "python",
   "nbconvert_exporter": "python",
   "pygments_lexer": "ipython3",
   "version": "3.7.3"
  }
 },
 "nbformat": 4,
 "nbformat_minor": 2
}
