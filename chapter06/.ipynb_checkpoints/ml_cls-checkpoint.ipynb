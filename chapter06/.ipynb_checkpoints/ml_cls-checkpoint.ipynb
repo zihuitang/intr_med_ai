{
 "cells": [
  {
   "cell_type": "code",
   "execution_count": 1,
   "metadata": {},
   "outputs": [],
   "source": [
    "import numpy as np\n",
    "import pandas as pd\n",
    "import matplotlib.pyplot as plt\n",
    "from sklearn import datasets\n",
    "from sklearn.model_selection import train_test_split\n",
    "import sklearn.metrics as metrics"
   ]
  },
  {
   "cell_type": "code",
   "execution_count": 2,
   "metadata": {},
   "outputs": [],
   "source": [
    "def load_data(infile):\n",
    "    dt1 = pd.read_excel(infile) \n",
    "    x_can=dt1.iloc[:,1:8]\n",
    "    y_can= dt1.CAN\n",
    "    x_train, x_test, y_train, y_test=train_test_split(x_can,y_can,test_size=0.2,random_state=0)\n",
    "    return x_train,  y_train, x_test,y_test    "
   ]
  },
  {
   "cell_type": "code",
   "execution_count": 3,
   "metadata": {},
   "outputs": [],
   "source": [
    "infile=\"./data/can_data1.xlsx\"\n",
    "dts = load_data(infile)"
   ]
  },
  {
   "cell_type": "code",
   "execution_count": 4,
   "metadata": {},
   "outputs": [
    {
     "name": "stdout",
     "output_type": "stream",
     "text": [
      "(800, 7) (800,) (200, 7) (200,)\n"
     ]
    }
   ],
   "source": [
    "print(dts[0].shape, dts[1].shape, dts[2].shape, dts[3].shape)"
   ]
  },
  {
   "cell_type": "code",
   "execution_count": 5,
   "metadata": {},
   "outputs": [
    {
     "data": {
      "text/html": [
       "<div>\n",
       "<style scoped>\n",
       "    .dataframe tbody tr th:only-of-type {\n",
       "        vertical-align: middle;\n",
       "    }\n",
       "\n",
       "    .dataframe tbody tr th {\n",
       "        vertical-align: top;\n",
       "    }\n",
       "\n",
       "    .dataframe thead th {\n",
       "        text-align: right;\n",
       "    }\n",
       "</style>\n",
       "<table border=\"1\" class=\"dataframe\">\n",
       "  <thead>\n",
       "    <tr style=\"text-align: right;\">\n",
       "      <th></th>\n",
       "      <th>Age</th>\n",
       "      <th>HR</th>\n",
       "      <th>SBP</th>\n",
       "      <th>FPG</th>\n",
       "      <th>PBG</th>\n",
       "      <th>HTN</th>\n",
       "      <th>DM</th>\n",
       "    </tr>\n",
       "  </thead>\n",
       "  <tbody>\n",
       "    <tr>\n",
       "      <th>687</th>\n",
       "      <td>1</td>\n",
       "      <td>0</td>\n",
       "      <td>0</td>\n",
       "      <td>1</td>\n",
       "      <td>0</td>\n",
       "      <td>0</td>\n",
       "      <td>0</td>\n",
       "    </tr>\n",
       "    <tr>\n",
       "      <th>500</th>\n",
       "      <td>1</td>\n",
       "      <td>0</td>\n",
       "      <td>0</td>\n",
       "      <td>1</td>\n",
       "      <td>0</td>\n",
       "      <td>0</td>\n",
       "      <td>0</td>\n",
       "    </tr>\n",
       "    <tr>\n",
       "      <th>332</th>\n",
       "      <td>1</td>\n",
       "      <td>1</td>\n",
       "      <td>0</td>\n",
       "      <td>0</td>\n",
       "      <td>1</td>\n",
       "      <td>0</td>\n",
       "      <td>0</td>\n",
       "    </tr>\n",
       "    <tr>\n",
       "      <th>979</th>\n",
       "      <td>2</td>\n",
       "      <td>0</td>\n",
       "      <td>1</td>\n",
       "      <td>0</td>\n",
       "      <td>0</td>\n",
       "      <td>1</td>\n",
       "      <td>0</td>\n",
       "    </tr>\n",
       "    <tr>\n",
       "      <th>817</th>\n",
       "      <td>1</td>\n",
       "      <td>0</td>\n",
       "      <td>0</td>\n",
       "      <td>0</td>\n",
       "      <td>0</td>\n",
       "      <td>0</td>\n",
       "      <td>0</td>\n",
       "    </tr>\n",
       "  </tbody>\n",
       "</table>\n",
       "</div>"
      ],
      "text/plain": [
       "     Age  HR  SBP  FPG  PBG  HTN  DM\n",
       "687    1   0    0    1    0    0   0\n",
       "500    1   0    0    1    0    0   0\n",
       "332    1   1    0    0    1    0   0\n",
       "979    2   0    1    0    0    1   0\n",
       "817    1   0    0    0    0    0   0"
      ]
     },
     "execution_count": 5,
     "metadata": {},
     "output_type": "execute_result"
    }
   ],
   "source": [
    "dts[0].head()"
   ]
  },
  {
   "cell_type": "code",
   "execution_count": 6,
   "metadata": {},
   "outputs": [
    {
     "data": {
      "text/plain": [
       "687    0\n",
       "500    0\n",
       "332    1\n",
       "979    1\n",
       "817    0\n",
       "Name: CAN, dtype: int64"
      ]
     },
     "execution_count": 6,
     "metadata": {},
     "output_type": "execute_result"
    }
   ],
   "source": [
    "dts[1].head()"
   ]
  },
  {
   "cell_type": "code",
   "execution_count": 7,
   "metadata": {},
   "outputs": [],
   "source": [
    "from sklearn.tree import DecisionTreeClassifier\n",
    "def test_decisontreecls(dts):     \n",
    "    clf=DecisionTreeClassifier() \n",
    "    clf.fit(dts[0],dts[1]) \n",
    "    y_predict=clf.predict(dts[2]) \n",
    "    print(\"acc:\",metrics.accuracy_score(y_predict,dts[3]))\n",
    "    #print(y_predict) "
   ]
  },
  {
   "cell_type": "code",
   "execution_count": 8,
   "metadata": {},
   "outputs": [
    {
     "name": "stdout",
     "output_type": "stream",
     "text": [
      "acc: 0.865\n"
     ]
    }
   ],
   "source": [
    "test_decisontreecls(dts)"
   ]
  },
  {
   "cell_type": "code",
   "execution_count": 9,
   "metadata": {},
   "outputs": [],
   "source": [
    "from sklearn import svm\n",
    "def test_svc(dts):\n",
    "    cls=svm.SVC()\n",
    "    cls.fit(dts[0],dts[1])\n",
    "    y_predict=cls.predict(dts[2])\n",
    "    print(\"acc:\",metrics.accuracy_score(y_predict,dts[3]))\n",
    "    #print(y_predict) "
   ]
  },
  {
   "cell_type": "code",
   "execution_count": 10,
   "metadata": {},
   "outputs": [
    {
     "name": "stdout",
     "output_type": "stream",
     "text": [
      "acc: 0.87\n"
     ]
    },
    {
     "name": "stderr",
     "output_type": "stream",
     "text": [
      "d:\\code\\anaconda3\\lib\\site-packages\\sklearn\\svm\\base.py:196: FutureWarning: The default value of gamma will change from 'auto' to 'scale' in version 0.22 to account better for unscaled features. Set gamma explicitly to 'auto' or 'scale' to avoid this warning.\n",
      "  \"avoid this warning.\", FutureWarning)\n"
     ]
    }
   ],
   "source": [
    "test_svc(dts)"
   ]
  },
  {
   "cell_type": "code",
   "execution_count": 11,
   "metadata": {},
   "outputs": [],
   "source": [
    "from sklearn.linear_model import LogisticRegression\n",
    "def test_logsticreg(dts):\n",
    "    cls=LogisticRegression()\n",
    "    cls.fit(dts[0],dts[1])\n",
    "    y_predict=cls.predict(dts[2])\n",
    "    print(\"acc:\",metrics.accuracy_score(y_predict,dts[3]))\n",
    "    #print(y_predict) "
   ]
  },
  {
   "cell_type": "code",
   "execution_count": 12,
   "metadata": {},
   "outputs": [
    {
     "name": "stdout",
     "output_type": "stream",
     "text": [
      "acc: 0.87\n"
     ]
    },
    {
     "name": "stderr",
     "output_type": "stream",
     "text": [
      "d:\\code\\anaconda3\\lib\\site-packages\\sklearn\\linear_model\\logistic.py:433: FutureWarning: Default solver will be changed to 'lbfgs' in 0.22. Specify a solver to silence this warning.\n",
      "  FutureWarning)\n"
     ]
    }
   ],
   "source": [
    "test_logsticreg(dts)"
   ]
  },
  {
   "cell_type": "code",
   "execution_count": 13,
   "metadata": {},
   "outputs": [],
   "source": [
    "from sklearn.ensemble import RandomForestClassifier\n",
    "def test_rf(dts):\n",
    "    cls = RandomForestClassifier(n_estimators=1000)\n",
    "    cls.fit(dts[0],dts[1])\n",
    "    y_predict=cls.predict(dts[2])\n",
    "    print(\"acc:\",metrics.accuracy_score(y_predict,dts[3]))\n",
    "    #print(y_predict) "
   ]
  },
  {
   "cell_type": "code",
   "execution_count": 14,
   "metadata": {},
   "outputs": [
    {
     "name": "stdout",
     "output_type": "stream",
     "text": [
      "acc: 0.885\n"
     ]
    }
   ],
   "source": [
    "test_rf(dts)"
   ]
  },
  {
   "cell_type": "code",
   "execution_count": 15,
   "metadata": {},
   "outputs": [],
   "source": [
    "from sklearn.neighbors import KNeighborsClassifier\n",
    "def test_knn(dts):\n",
    "    cls = KNeighborsClassifier()\n",
    "    cls.fit(dts[0],dts[1])\n",
    "    y_predict=cls.predict(dts[2])\n",
    "    print(\"acc:\",metrics.accuracy_score(y_predict,dts[3]))\n",
    "    #print(y_predict) "
   ]
  },
  {
   "cell_type": "code",
   "execution_count": 16,
   "metadata": {},
   "outputs": [
    {
     "name": "stdout",
     "output_type": "stream",
     "text": [
      "acc: 0.865\n"
     ]
    }
   ],
   "source": [
    "test_knn(dts)"
   ]
  },
  {
   "cell_type": "code",
   "execution_count": 17,
   "metadata": {},
   "outputs": [],
   "source": [
    "from sklearn.naive_bayes import GaussianNB\n",
    "def test_gnb(dts):\n",
    "    cls = GaussianNB()\n",
    "    cls.fit(dts[0],dts[1])\n",
    "    y_predict=cls.predict(dts[2])\n",
    "    print(\"acc:\",metrics.accuracy_score(y_predict,dts[3]))\n",
    "    #print(y_predict) "
   ]
  },
  {
   "cell_type": "code",
   "execution_count": 18,
   "metadata": {},
   "outputs": [
    {
     "name": "stdout",
     "output_type": "stream",
     "text": [
      "acc: 0.85\n"
     ]
    }
   ],
   "source": [
    "test_gnb(dts)"
   ]
  },
  {
   "cell_type": "code",
   "execution_count": 19,
   "metadata": {},
   "outputs": [],
   "source": [
    "from xgboost import XGBClassifier\n",
    "def test_xgboost(dts):\n",
    "    cls = XGBClassifier()\n",
    "    cls.fit(dts[0],dts[1])\n",
    "    y_predict=cls.predict(dts[2])\n",
    "    print(\"acc:\",metrics.accuracy_score(y_predict,dts[3]))\n",
    "    #print(y_predict) "
   ]
  },
  {
   "cell_type": "code",
   "execution_count": 20,
   "metadata": {},
   "outputs": [
    {
     "name": "stdout",
     "output_type": "stream",
     "text": [
      "acc: 0.87\n"
     ]
    }
   ],
   "source": [
    "test_xgboost(dts)"
   ]
  },
  {
   "cell_type": "code",
   "execution_count": 21,
   "metadata": {},
   "outputs": [],
   "source": [
    "from sklearn.ensemble import GradientBoostingClassifier\n",
    "def test_gbdt(dts):\n",
    "    cls = GradientBoostingClassifier(n_estimators=256)\n",
    "    cls.fit(dts[0],dts[1])\n",
    "    y_predict=cls.predict(dts[2])\n",
    "    print(\"acc:\",metrics.accuracy_score(y_predict,dts[3]))\n",
    "    #print(y_predict) "
   ]
  },
  {
   "cell_type": "code",
   "execution_count": 22,
   "metadata": {},
   "outputs": [
    {
     "name": "stdout",
     "output_type": "stream",
     "text": [
      "acc: 0.855\n"
     ]
    }
   ],
   "source": [
    "test_gbdt(dts)"
   ]
  },
  {
   "cell_type": "code",
   "execution_count": 23,
   "metadata": {},
   "outputs": [],
   "source": [
    "from sklearn.ensemble import  AdaBoostClassifier\n",
    "def test_abc(dts):\n",
    "    cls = AdaBoostClassifier()\n",
    "    cls.fit(dts[0],dts[1])\n",
    "    y_predict=cls.predict(dts[2])\n",
    "    print(\"acc:\",metrics.accuracy_score(y_predict,dts[3]))"
   ]
  },
  {
   "cell_type": "code",
   "execution_count": 24,
   "metadata": {},
   "outputs": [
    {
     "name": "stdout",
     "output_type": "stream",
     "text": [
      "acc: 0.86\n"
     ]
    }
   ],
   "source": [
    "test_abc(dts)"
   ]
  },
  {
   "cell_type": "code",
   "execution_count": 25,
   "metadata": {},
   "outputs": [],
   "source": [
    "from sklearn.neural_network import MLPClassifier\n",
    "def test_ann(dts):\n",
    "    cls=MLPClassifier(alpha=1e-5,hidden_layer_sizes=(16,8),random_state=1)\n",
    "    cls.fit(dts[0],dts[1])\n",
    "    y_predict=cls.predict(dts[2])\n",
    "    print(\"acc:\",metrics.accuracy_score(y_predict,dts[3]))\n",
    "    #print(y_predict) "
   ]
  },
  {
   "cell_type": "code",
   "execution_count": 26,
   "metadata": {},
   "outputs": [
    {
     "name": "stdout",
     "output_type": "stream",
     "text": [
      "acc: 0.87\n"
     ]
    },
    {
     "name": "stderr",
     "output_type": "stream",
     "text": [
      "d:\\code\\anaconda3\\lib\\site-packages\\sklearn\\neural_network\\multilayer_perceptron.py:562: ConvergenceWarning: Stochastic Optimizer: Maximum iterations (200) reached and the optimization hasn't converged yet.\n",
      "  % self.max_iter, ConvergenceWarning)\n"
     ]
    }
   ],
   "source": [
    "test_ann(dts)"
   ]
  },
  {
   "cell_type": "code",
   "execution_count": null,
   "metadata": {},
   "outputs": [],
   "source": []
  }
 ],
 "metadata": {
  "kernelspec": {
   "display_name": "Python 3",
   "language": "python",
   "name": "python3"
  },
  "language_info": {
   "codemirror_mode": {
    "name": "ipython",
    "version": 3
   },
   "file_extension": ".py",
   "mimetype": "text/x-python",
   "name": "python",
   "nbconvert_exporter": "python",
   "pygments_lexer": "ipython3",
   "version": "3.7.3"
  }
 },
 "nbformat": 4,
 "nbformat_minor": 2
}
