{
 "cells": [
  {
   "cell_type": "code",
   "execution_count": 1,
   "metadata": {
    "scrolled": true
   },
   "outputs": [
    {
     "data": {
      "text/plain": [
       "'hello world'"
      ]
     },
     "execution_count": 1,
     "metadata": {},
     "output_type": "execute_result"
    }
   ],
   "source": [
    "\"hello world\" #字符串"
   ]
  },
  {
   "cell_type": "code",
   "execution_count": 2,
   "metadata": {},
   "outputs": [
    {
     "name": "stdout",
     "output_type": "stream",
     "text": [
      "c:\\code\n",
      "ame\n",
      "c:\\code\\name\n"
     ]
    }
   ],
   "source": [
    "print(\"c:\\code\\name\") #\"\\n\"表示换行符\n",
    "print(r\"c:\\code\\name\") #引号前加r，表示原始输出"
   ]
  },
  {
   "cell_type": "code",
   "execution_count": 3,
   "metadata": {},
   "outputs": [
    {
     "data": {
      "text/plain": [
       "'Dr. Tang'"
      ]
     },
     "execution_count": 3,
     "metadata": {},
     "output_type": "execute_result"
    }
   ],
   "source": [
    "\"Dr.\"+\" \"+\"Tang\" #字符串支持加运算 表示字符串拼接"
   ]
  },
  {
   "cell_type": "code",
   "execution_count": 4,
   "metadata": {},
   "outputs": [
    {
     "data": {
      "text/plain": [
       "13"
      ]
     },
     "execution_count": 4,
     "metadata": {},
     "output_type": "execute_result"
    }
   ],
   "source": [
    "10 +3 #加法"
   ]
  },
  {
   "cell_type": "code",
   "execution_count": 5,
   "metadata": {},
   "outputs": [
    {
     "data": {
      "text/plain": [
       "7"
      ]
     },
     "execution_count": 5,
     "metadata": {},
     "output_type": "execute_result"
    }
   ],
   "source": [
    "10 - 3 #减法"
   ]
  },
  {
   "cell_type": "code",
   "execution_count": 6,
   "metadata": {},
   "outputs": [
    {
     "data": {
      "text/plain": [
       "30"
      ]
     },
     "execution_count": 6,
     "metadata": {},
     "output_type": "execute_result"
    }
   ],
   "source": [
    "10 * 3 #乘法"
   ]
  },
  {
   "cell_type": "code",
   "execution_count": 7,
   "metadata": {},
   "outputs": [
    {
     "data": {
      "text/plain": [
       "3.3333333333333335"
      ]
     },
     "execution_count": 7,
     "metadata": {},
     "output_type": "execute_result"
    }
   ],
   "source": [
    "10 / 3 #除法"
   ]
  },
  {
   "cell_type": "code",
   "execution_count": 8,
   "metadata": {},
   "outputs": [
    {
     "data": {
      "text/plain": [
       "1"
      ]
     },
     "execution_count": 8,
     "metadata": {},
     "output_type": "execute_result"
    }
   ],
   "source": [
    "10 % 3 #求余数"
   ]
  },
  {
   "cell_type": "code",
   "execution_count": 9,
   "metadata": {},
   "outputs": [
    {
     "data": {
      "text/plain": [
       "3"
      ]
     },
     "execution_count": 9,
     "metadata": {},
     "output_type": "execute_result"
    }
   ],
   "source": [
    "10 // 3 #求商"
   ]
  },
  {
   "cell_type": "code",
   "execution_count": 10,
   "metadata": {},
   "outputs": [
    {
     "data": {
      "text/plain": [
       "1000"
      ]
     },
     "execution_count": 10,
     "metadata": {},
     "output_type": "execute_result"
    }
   ],
   "source": [
    "10 ** 3 #10的3次方"
   ]
  },
  {
   "cell_type": "code",
   "execution_count": 11,
   "metadata": {},
   "outputs": [
    {
     "data": {
      "text/plain": [
       "False"
      ]
     },
     "execution_count": 11,
     "metadata": {},
     "output_type": "execute_result"
    }
   ],
   "source": [
    "x = 3 #x变量赋值3\n",
    "y = 1 #y变量赋值1\n",
    "x == y #比较运算符  ==（等于），表示比较对象是否相等"
   ]
  },
  {
   "cell_type": "code",
   "execution_count": 12,
   "metadata": {},
   "outputs": [
    {
     "data": {
      "text/plain": [
       "True"
      ]
     },
     "execution_count": 12,
     "metadata": {},
     "output_type": "execute_result"
    }
   ],
   "source": [
    "x != y  #比较运算符  !=（不等于），表示比较对象是否不相等"
   ]
  },
  {
   "cell_type": "code",
   "execution_count": 13,
   "metadata": {
    "scrolled": true
   },
   "outputs": [
    {
     "data": {
      "text/plain": [
       "True"
      ]
     },
     "execution_count": 13,
     "metadata": {},
     "output_type": "execute_result"
    }
   ],
   "source": [
    "x > y #比较运算符  >（大于），返回x是否大于y；>=（大于等于）"
   ]
  },
  {
   "cell_type": "code",
   "execution_count": 14,
   "metadata": {},
   "outputs": [
    {
     "data": {
      "text/plain": [
       "False"
      ]
     },
     "execution_count": 14,
     "metadata": {},
     "output_type": "execute_result"
    }
   ],
   "source": [
    "x < y #比较运算符  <（小于），返回x是否小于y；<=（小于等于）"
   ]
  },
  {
   "cell_type": "code",
   "execution_count": 15,
   "metadata": {},
   "outputs": [
    {
     "data": {
      "text/plain": [
       "False"
      ]
     },
     "execution_count": 15,
     "metadata": {},
     "output_type": "execute_result"
    }
   ],
   "source": [
    "a = True #布尔变量a赋值True\n",
    "b = False  #布尔变量b赋值False\n",
    "a and b #逻辑运算：与and，True and True 返回True，其他返回False"
   ]
  },
  {
   "cell_type": "code",
   "execution_count": 16,
   "metadata": {},
   "outputs": [
    {
     "data": {
      "text/plain": [
       "True"
      ]
     },
     "execution_count": 16,
     "metadata": {},
     "output_type": "execute_result"
    }
   ],
   "source": [
    "a or b #逻辑运算：或or，False or False 返回False，其他返回True"
   ]
  },
  {
   "cell_type": "code",
   "execution_count": 17,
   "metadata": {},
   "outputs": [
    {
     "data": {
      "text/plain": [
       "False"
      ]
     },
     "execution_count": 17,
     "metadata": {},
     "output_type": "execute_result"
    }
   ],
   "source": [
    "not a #逻辑运算：非 not，取反"
   ]
  },
  {
   "cell_type": "code",
   "execution_count": 18,
   "metadata": {},
   "outputs": [
    {
     "data": {
      "text/plain": [
       "[1, 2, 3, 'a', 'ab', 3, 2, '2']"
      ]
     },
     "execution_count": 18,
     "metadata": {},
     "output_type": "execute_result"
    }
   ],
   "source": [
    "list1 = [1,2,3,\"a\",\"ab\",3,2,\"2\"] #创建列表\n",
    "list1"
   ]
  },
  {
   "cell_type": "code",
   "execution_count": 19,
   "metadata": {},
   "outputs": [
    {
     "data": {
      "text/plain": [
       "[1, 'a', 3]"
      ]
     },
     "execution_count": 19,
     "metadata": {},
     "output_type": "execute_result"
    }
   ],
   "source": [
    "list2 = list([1,\"a\",3]) #list()函数创建列表\n",
    "list2"
   ]
  },
  {
   "cell_type": "code",
   "execution_count": 20,
   "metadata": {},
   "outputs": [
    {
     "data": {
      "text/plain": [
       "1"
      ]
     },
     "execution_count": 20,
     "metadata": {},
     "output_type": "execute_result"
    }
   ],
   "source": [
    "list1[0] #通过索引访问列表元素"
   ]
  },
  {
   "cell_type": "code",
   "execution_count": 21,
   "metadata": {},
   "outputs": [
    {
     "data": {
      "text/plain": [
       "'2'"
      ]
     },
     "execution_count": 21,
     "metadata": {},
     "output_type": "execute_result"
    }
   ],
   "source": [
    "list1[-1] #通过索引访问列表元素"
   ]
  },
  {
   "cell_type": "code",
   "execution_count": 22,
   "metadata": {},
   "outputs": [
    {
     "data": {
      "text/plain": [
       "[1, 2, 3, 'a']"
      ]
     },
     "execution_count": 22,
     "metadata": {},
     "output_type": "execute_result"
    }
   ],
   "source": [
    "list1[0:4] #通过索引访问列表元素"
   ]
  },
  {
   "cell_type": "code",
   "execution_count": 23,
   "metadata": {},
   "outputs": [
    {
     "data": {
      "text/plain": [
       "[1, 2, 3, 'a', 'ab', 3, 2, '2', [1, 'a', 3]]"
      ]
     },
     "execution_count": 23,
     "metadata": {},
     "output_type": "execute_result"
    }
   ],
   "source": [
    "list1.append(list2) #append方法是将list2所有元素做为一个list元素加入list1最后的位置\n",
    "list1"
   ]
  },
  {
   "cell_type": "code",
   "execution_count": 24,
   "metadata": {},
   "outputs": [
    {
     "data": {
      "text/plain": [
       "[1, 2, 3, 'a', 'ab', 3, 2, '2', [1, 'a', 3], 1, 'a', 3]"
      ]
     },
     "execution_count": 24,
     "metadata": {},
     "output_type": "execute_result"
    }
   ],
   "source": [
    "list1.extend(list2) #extend方法是将list1和list2元素合并成一个列表\n",
    "list1"
   ]
  },
  {
   "cell_type": "code",
   "execution_count": 25,
   "metadata": {},
   "outputs": [
    {
     "data": {
      "text/plain": [
       "(1, 2, 3, 4, 3, 1)"
      ]
     },
     "execution_count": 25,
     "metadata": {},
     "output_type": "execute_result"
    }
   ],
   "source": [
    "tuple1 = (1,2,3,4,3,1) #通过()构建元组\n",
    "tuple1"
   ]
  },
  {
   "cell_type": "code",
   "execution_count": 26,
   "metadata": {},
   "outputs": [
    {
     "data": {
      "text/plain": [
       "(1, 2, 1)"
      ]
     },
     "execution_count": 26,
     "metadata": {},
     "output_type": "execute_result"
    }
   ],
   "source": [
    "list0 = [1, 2, 1]\n",
    "tuple2 = tuple(list0)  #通过tuple()函数构建元组\n",
    "tuple2"
   ]
  },
  {
   "cell_type": "code",
   "execution_count": 27,
   "metadata": {},
   "outputs": [
    {
     "data": {
      "text/plain": [
       "1"
      ]
     },
     "execution_count": 27,
     "metadata": {},
     "output_type": "execute_result"
    }
   ],
   "source": [
    "tuple1[0] #通过索引访问列表元素"
   ]
  },
  {
   "cell_type": "code",
   "execution_count": 28,
   "metadata": {},
   "outputs": [
    {
     "data": {
      "text/plain": [
       "(1, 2, 3, 4, 3, 1, 1, 2, 1)"
      ]
     },
     "execution_count": 28,
     "metadata": {},
     "output_type": "execute_result"
    }
   ],
   "source": [
    "tuple1 + tuple2 #加运算合并元组"
   ]
  },
  {
   "cell_type": "code",
   "execution_count": 29,
   "metadata": {},
   "outputs": [
    {
     "data": {
      "text/plain": [
       "{'a': 12, 'b': 15, 'd': 25}"
      ]
     },
     "execution_count": 29,
     "metadata": {},
     "output_type": "execute_result"
    }
   ],
   "source": [
    "dict1 = {\"a\":12,\"b\":15,\"d\":25} #字典构建\n",
    "dict1"
   ]
  },
  {
   "cell_type": "code",
   "execution_count": 30,
   "metadata": {},
   "outputs": [
    {
     "data": {
      "text/plain": [
       "dict_keys(['a', 'b', 'd'])"
      ]
     },
     "execution_count": 30,
     "metadata": {},
     "output_type": "execute_result"
    }
   ],
   "source": [
    "dict1.keys() #通过keys获取字典的键"
   ]
  },
  {
   "cell_type": "code",
   "execution_count": 31,
   "metadata": {},
   "outputs": [
    {
     "data": {
      "text/plain": [
       "dict_values([12, 15, 25])"
      ]
     },
     "execution_count": 31,
     "metadata": {},
     "output_type": "execute_result"
    }
   ],
   "source": [
    "dict1.values() #通过values获取字典的值"
   ]
  },
  {
   "cell_type": "code",
   "execution_count": 32,
   "metadata": {},
   "outputs": [
    {
     "data": {
      "text/plain": [
       "25"
      ]
     },
     "execution_count": 32,
     "metadata": {},
     "output_type": "execute_result"
    }
   ],
   "source": [
    "dict1[\"d\"] #通过字典的keys访问相应的value"
   ]
  },
  {
   "cell_type": "code",
   "execution_count": 33,
   "metadata": {},
   "outputs": [
    {
     "data": {
      "text/plain": [
       "{1, '2', 3, 4, '4', 5, 6}"
      ]
     },
     "execution_count": 33,
     "metadata": {},
     "output_type": "execute_result"
    }
   ],
   "source": [
    "set1 = {1,3,\"2\",3,\"4\",5,6,4} #通过{}创建集合\n",
    "set1"
   ]
  },
  {
   "cell_type": "code",
   "execution_count": 34,
   "metadata": {},
   "outputs": [
    {
     "data": {
      "text/plain": [
       "{1, 2, 3, '5'}"
      ]
     },
     "execution_count": 34,
     "metadata": {},
     "output_type": "execute_result"
    }
   ],
   "source": [
    "list0 = [1,2,3,\"5\"]\n",
    "set2 = set(list0) #通过set()函数创建集合\n",
    "set2"
   ]
  },
  {
   "cell_type": "code",
   "execution_count": 35,
   "metadata": {},
   "outputs": [
    {
     "data": {
      "text/plain": [
       "{1, 2}"
      ]
     },
     "execution_count": 35,
     "metadata": {},
     "output_type": "execute_result"
    }
   ],
   "source": [
    "A = {1,2,3,4}\n",
    "B = {3,4,5,6}\n",
    "A - B #差集运算，即A的元素去除AB共有的元素"
   ]
  },
  {
   "cell_type": "code",
   "execution_count": 36,
   "metadata": {},
   "outputs": [
    {
     "data": {
      "text/plain": [
       "{1, 2, 3, 4, 5, 6}"
      ]
     },
     "execution_count": 36,
     "metadata": {},
     "output_type": "execute_result"
    }
   ],
   "source": [
    "A | B #并集运算，即A与B的全部唯一的元素"
   ]
  },
  {
   "cell_type": "code",
   "execution_count": 37,
   "metadata": {},
   "outputs": [
    {
     "data": {
      "text/plain": [
       "{3, 4}"
      ]
     },
     "execution_count": 37,
     "metadata": {},
     "output_type": "execute_result"
    }
   ],
   "source": [
    "A & B #交集运算，即A和B的共有元素"
   ]
  },
  {
   "cell_type": "code",
   "execution_count": 38,
   "metadata": {},
   "outputs": [
    {
     "data": {
      "text/plain": [
       "{1, 2, 5, 6}"
      ]
     },
     "execution_count": 38,
     "metadata": {},
     "output_type": "execute_result"
    }
   ],
   "source": [
    "A ^ B #对差集，即(A|B) - (A&B)"
   ]
  },
  {
   "cell_type": "code",
   "execution_count": 39,
   "metadata": {},
   "outputs": [
    {
     "name": "stdout",
     "output_type": "stream",
     "text": [
      "a\n",
      "b\n"
     ]
    }
   ],
   "source": [
    "list0 = [\"a\",\"b\",\"d\"] #构建一个列表\n",
    "print(list0[0]) #打印列表第一个元素\n",
    "print(list0[1]) #顺序打印第二各元素"
   ]
  },
  {
   "cell_type": "code",
   "execution_count": 40,
   "metadata": {},
   "outputs": [
    {
     "name": "stdout",
     "output_type": "stream",
     "text": [
      "positive\n"
     ]
    }
   ],
   "source": [
    "var = 3         #var变量赋值3\n",
    "if var < 0:     #选择结构\n",
    "    print(\"negative\")\n",
    "elif x == 0:\n",
    "    print(\"zero\")\n",
    "else:\n",
    "    print(\"positive\")"
   ]
  },
  {
   "cell_type": "code",
   "execution_count": 41,
   "metadata": {
    "scrolled": true
   },
   "outputs": [
    {
     "name": "stdout",
     "output_type": "stream",
     "text": [
      "a\n",
      "b\n",
      "d\n"
     ]
    }
   ],
   "source": [
    "for i in list0:    #for 循环结构\n",
    "    print(i)         #循环体执行代码"
   ]
  },
  {
   "cell_type": "code",
   "execution_count": 42,
   "metadata": {},
   "outputs": [
    {
     "name": "stdout",
     "output_type": "stream",
     "text": [
      "0\n",
      "1\n",
      "2\n"
     ]
    }
   ],
   "source": [
    "x = 0                #x变量赋值0\n",
    "while x < 3:    #while 循环结构   \n",
    "    print(x)      #循环体执行代码\n",
    "    x +=1          #循环体执行代码"
   ]
  },
  {
   "cell_type": "code",
   "execution_count": 43,
   "metadata": {},
   "outputs": [
    {
     "name": "stdout",
     "output_type": "stream",
     "text": [
      "[0.1, 0.2, 0.3, 0.5, 0.6]\n"
     ]
    }
   ],
   "source": [
    "list0 = [1,2,3,5,6] #构建列表list0\n",
    "list1 = [i/10 for i in list0] #for循环进行列表list0遍历计算\n",
    "print(list1)"
   ]
  },
  {
   "cell_type": "code",
   "execution_count": 44,
   "metadata": {},
   "outputs": [
    {
     "name": "stdout",
     "output_type": "stream",
     "text": [
      "name:  tang\n"
     ]
    }
   ],
   "source": [
    "def print_user(name): #定义函数，print_user为函数 名，name为形参\n",
    "    print(\"name: \",name) #函数体    \n",
    "    \n",
    "print_user(\"tang\") #调用print_user函数，\"tang\"为实参"
   ]
  },
  {
   "cell_type": "code",
   "execution_count": 45,
   "metadata": {},
   "outputs": [
    {
     "name": "stdout",
     "output_type": "stream",
     "text": [
      "origin:  tang\n",
      "tang\n"
     ]
    }
   ],
   "source": [
    "def print_demo(obj): #定义函数，print_demo为函数 名，obj为形参\n",
    "    print(\"origin: \", obj)\n",
    "    obj +=obj\n",
    "\n",
    "obj1 = \"tang\" #obj1为字符串，值传递\n",
    "print_demo(obj1) #调用print_demo函数，“tang”作为实参传递给形参obj，是值传递\n",
    "print(obj1) #obj1的值没有改变"
   ]
  },
  {
   "cell_type": "code",
   "execution_count": 46,
   "metadata": {},
   "outputs": [
    {
     "name": "stdout",
     "output_type": "stream",
     "text": [
      "origin:  ['a', 'b']\n",
      "['a', 'b', 'a', 'b']\n"
     ]
    }
   ],
   "source": [
    "obj2 = [\"a\",\"b\"] #obj2为列表数据类型，引用传递\n",
    "print_demo(obj2)  #调用print_demo函数，列表[\"a\",\"b\"]作为实参传递给形参obj，是引用传递\n",
    "print(obj2) #obj2的值发生改变，由 ['a', 'b'] 由函数执行体 obj += obj 修改成 ['a', 'b', 'a', 'b']"
   ]
  },
  {
   "cell_type": "code",
   "execution_count": 47,
   "metadata": {},
   "outputs": [
    {
     "name": "stdout",
     "output_type": "stream",
     "text": [
      "3\n",
      "5\n"
     ]
    }
   ],
   "source": [
    "def print_arg(*arg): #定义函数，print_demo为函数 名，arg为可变参数\n",
    "    print(len(arg)) #打印传入函数中实际参数的个数\n",
    "\n",
    "print_arg(\"a\",1,3) #调用print_arg函数，传入函数有3个实际参数\n",
    "print_arg(\"a\",\"b\",1,2,3) #调用print_arg函数，传入函数有5个实际参数"
   ]
  },
  {
   "cell_type": "code",
   "execution_count": 48,
   "metadata": {},
   "outputs": [
    {
     "name": "stdout",
     "output_type": "stream",
     "text": [
      "55\n"
     ]
    }
   ],
   "source": [
    "def sum_num(a): #定义函数，sum_num为函数 名，a为形参\n",
    "    s = 0    #s为局部变量\n",
    "    for i in a: #for循环，将传入的列表元素求和\n",
    "        s += i\n",
    "    return s #返回列表元素和\n",
    "\n",
    "list0 = [1,2,3,4,5,6,7,8,9,10] #定义列表list0\n",
    "s0 = sum_num(list0) #调用sum_num函数，将列表list0元素求和，返回给变量s0\n",
    "print(s0)  #打印s0"
   ]
  },
  {
   "cell_type": "code",
   "execution_count": 49,
   "metadata": {
    "scrolled": true
   },
   "outputs": [
    {
     "name": "stdout",
     "output_type": "stream",
     "text": [
      "name:  ming\n",
      "infomation: \n",
      "  age: 18 \n",
      "  gender: male\n",
      "name:  xiao\n"
     ]
    }
   ],
   "source": [
    "class Person: #定义类Person，封装属性和方法\n",
    "    def __init__(self, name, age, gender=\"male\"): #Person实例传入self\n",
    "        self.name = name #初始化属性name, age和gender，默认gender = \"male\"\n",
    "        self.age = age\n",
    "        self.gender = gender      \n",
    "        \n",
    "    def print_name(self): #方法print_name() 打印name\n",
    "        print(\"name: \", self.name)\n",
    "    def print_info(self): #方法print_info() 打印age,gender\n",
    "        print(\"infomation: \\n  age: %s \\n  gender: %s\"%(self.age, self.gender))  \n",
    "    \n",
    "p1 = Person(\"ming\",18) #创建p1为Person类的实例，属性name=\"ming\", age=18\n",
    "p1.print_name() #访问方法print_name()\n",
    "p1.print_info() #访问方法print_info()\n",
    "p1.name = \"xiao\" #修改属性name\n",
    "p1.print_name() "
   ]
  },
  {
   "cell_type": "code",
   "execution_count": 50,
   "metadata": {
    "scrolled": true
   },
   "outputs": [
    {
     "name": "stdout",
     "output_type": "stream",
     "text": [
      "infomation: \n",
      "  age: 17 \n",
      "  gender: female\n"
     ]
    }
   ],
   "source": [
    "p2 = Person(\"mei\",17,\"female\") #创建另外一个实例p2\n",
    "p2.print_info() #访问方法print_info()"
   ]
  },
  {
   "cell_type": "code",
   "execution_count": 51,
   "metadata": {
    "scrolled": true
   },
   "outputs": [
    {
     "name": "stdout",
     "output_type": "stream",
     "text": [
      "student name:  xiao\n",
      "infomation: \n",
      "  age: 19 \n",
      "  gender: female\n",
      "sid:  s118\n"
     ]
    }
   ],
   "source": [
    "class Student(Person): #类Student继承类Person\n",
    "    def __init__(self, name,age, gender,sid): #添加子类Student新属性sid\n",
    "        super().__init__(name,age, gender) #初始化父类，super()调用父类__init()__\n",
    "        self.sid = sid  #初始化属性sid\n",
    "        \n",
    "    def print_name(self): #重写父类方法print_name()\n",
    "        print(\"student name: \", self.name)        \n",
    "    def print_sid(self): #添加子类Student新方法\n",
    "        print(\"sid: \",self.sid)\n",
    "    \n",
    "s1 = Student(\"xiao\",19,\"female\",\"s118\") #创建子类Student的实例s1\n",
    "s1.print_name() #访问子类修改后的方法print_name()\n",
    "s1.print_info() #访问继承父类的方法print_info()\n",
    "s1.print_sid() #访问子类的新方法print_sid()"
   ]
  },
  {
   "cell_type": "code",
   "execution_count": 52,
   "metadata": {},
   "outputs": [
    {
     "name": "stdout",
     "output_type": "stream",
     "text": [
      "name:  tang\n",
      "hospital:  huashan\n"
     ]
    }
   ],
   "source": [
    "class Doctor(Person): #类Doctor继承类Person，同时区别子类Student，类的多态性\n",
    "    def __init__(self,name,age,gender,hospital): #类的多态性，类Doctor新属性hospital区别Student的属性sid\n",
    "        super().__init__(name,age,gender)\n",
    "        self.hospital = hospital\n",
    "        \n",
    "    def print_hospital(self): #添加子类Doctor新方法\n",
    "        print(\"hospital: \", self.hospital)\n",
    "        \n",
    "d1 = Doctor(\"tang\", 30, \"male\",\"huashan\") #创建子类Doctor的实例d1\n",
    "d1.print_name() #访问继承父类Person的方法print_name()\n",
    "d1.print_hospital() #访问子类Doctor的新方法print_hosptial()"
   ]
  },
  {
   "cell_type": "code",
   "execution_count": 53,
   "metadata": {},
   "outputs": [
    {
     "name": "stdout",
     "output_type": "stream",
     "text": [
      "4.5\n"
     ]
    }
   ],
   "source": [
    "import test_module as tm #导入test_module.py, 设tm为别名\n",
    "list0 = [1,2,3,4,5,6,7,8] #创建列表list0\n",
    "avg = tm.average(list0) #tm的average函数计算list0的平均值，返回给变量avg\n",
    "print(avg) #打印avg"
   ]
  },
  {
   "cell_type": "code",
   "execution_count": 54,
   "metadata": {},
   "outputs": [
    {
     "data": {
      "text/plain": [
       "4.5"
      ]
     },
     "execution_count": 54,
     "metadata": {},
     "output_type": "execute_result"
    }
   ],
   "source": [
    "import numpy as np # 导入第三方库numpy模块，设np为别名\n",
    "np.mean(list0) #使用numpy模块的mean()函数计算list0的均值"
   ]
  },
  {
   "cell_type": "code",
   "execution_count": 55,
   "metadata": {
    "scrolled": true
   },
   "outputs": [
    {
     "name": "stdout",
     "output_type": "stream",
     "text": [
      "﻿This is a text file.\n",
      "Hi, python, thanks!\n"
     ]
    }
   ],
   "source": [
    "with open(\"test_file_read.txt\", \"r\", encoding = \"utf-8\") as file: #打开test_file_read.txt文件\n",
    "    str1 = file.read() #读取文件test_file_read.txt内容，赋值str1\n",
    "print(str1) #打印str1"
   ]
  },
  {
   "cell_type": "code",
   "execution_count": 56,
   "metadata": {},
   "outputs": [],
   "source": [
    "str_write = \"test a write file... \\nthis a new sentence...\" #赋值变量str_write字符串内容\n",
    "with open(\"test_file_write.txt\", \"w\", encoding = \"utf-8\") as file:  #打开test_file_write.txt文件\n",
    "    file.write(str_write) #str_write内容写入文件test_file_write.txt"
   ]
  },
  {
   "cell_type": "code",
   "execution_count": 57,
   "metadata": {},
   "outputs": [
    {
     "data": {
      "text/html": [
       "<div>\n",
       "<style scoped>\n",
       "    .dataframe tbody tr th:only-of-type {\n",
       "        vertical-align: middle;\n",
       "    }\n",
       "\n",
       "    .dataframe tbody tr th {\n",
       "        vertical-align: top;\n",
       "    }\n",
       "\n",
       "    .dataframe thead th {\n",
       "        text-align: right;\n",
       "    }\n",
       "</style>\n",
       "<table border=\"1\" class=\"dataframe\">\n",
       "  <thead>\n",
       "    <tr style=\"text-align: right;\">\n",
       "      <th></th>\n",
       "      <th>id</th>\n",
       "      <th>name</th>\n",
       "      <th>age</th>\n",
       "      <th>gender</th>\n",
       "    </tr>\n",
       "  </thead>\n",
       "  <tbody>\n",
       "    <tr>\n",
       "      <th>0</th>\n",
       "      <td>1</td>\n",
       "      <td>xiaoming</td>\n",
       "      <td>18</td>\n",
       "      <td>male</td>\n",
       "    </tr>\n",
       "    <tr>\n",
       "      <th>1</th>\n",
       "      <td>2</td>\n",
       "      <td>xiaoli</td>\n",
       "      <td>19</td>\n",
       "      <td>female</td>\n",
       "    </tr>\n",
       "    <tr>\n",
       "      <th>2</th>\n",
       "      <td>3</td>\n",
       "      <td>xiaoliu</td>\n",
       "      <td>20</td>\n",
       "      <td>female</td>\n",
       "    </tr>\n",
       "    <tr>\n",
       "      <th>3</th>\n",
       "      <td>4</td>\n",
       "      <td>xiaotang</td>\n",
       "      <td>23</td>\n",
       "      <td>male</td>\n",
       "    </tr>\n",
       "    <tr>\n",
       "      <th>4</th>\n",
       "      <td>5</td>\n",
       "      <td>meimei</td>\n",
       "      <td>22</td>\n",
       "      <td>male</td>\n",
       "    </tr>\n",
       "  </tbody>\n",
       "</table>\n",
       "</div>"
      ],
      "text/plain": [
       "   id      name  age  gender\n",
       "0   1  xiaoming   18    male\n",
       "1   2    xiaoli   19  female\n",
       "2   3   xiaoliu   20  female\n",
       "3   4  xiaotang   23    male\n",
       "4   5    meimei   22    male"
      ]
     },
     "execution_count": 57,
     "metadata": {},
     "output_type": "execute_result"
    }
   ],
   "source": [
    "import pandas as pd #导入pandas，设pd为别名\n",
    "filename = \"test_file_excel.xlsx\"\n",
    "dt = pd.read_excel(filename, encoding = \"utf-8\") #读取test_file_excel.xlsx内容，返回一个DataFrame对象\n",
    "dt.head() #展示dt前5行内容"
   ]
  }
 ],
 "metadata": {
  "kernelspec": {
   "display_name": "Python 3",
   "language": "python",
   "name": "python3"
  },
  "language_info": {
   "codemirror_mode": {
    "name": "ipython",
    "version": 3
   },
   "file_extension": ".py",
   "mimetype": "text/x-python",
   "name": "python",
   "nbconvert_exporter": "python",
   "pygments_lexer": "ipython3",
   "version": "3.7.3"
  }
 },
 "nbformat": 4,
 "nbformat_minor": 2
}
